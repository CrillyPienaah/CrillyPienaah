{
  "cells": [
    {
      "cell_type": "markdown",
      "metadata": {
        "id": "view-in-github",
        "colab_type": "text"
      },
      "source": [
        "<a href=\"https://colab.research.google.com/github/CrillyPienaah/CrillyPienaah/blob/main/Copy_of_eai6000_m02_hw_Pienaah.ipynb\" target=\"_parent\"><img src=\"https://colab.research.google.com/assets/colab-badge.svg\" alt=\"Open In Colab\"/></a>"
      ]
    },
    {
      "cell_type": "markdown",
      "metadata": {
        "id": "dB4_y4GBm0tt"
      },
      "source": [
        "# A-Star Search Algorithm"
      ]
    },
    {
      "cell_type": "markdown",
      "metadata": {
        "id": "hRmWMPwTm5Ob"
      },
      "source": [
        "This notebook complements the walkthrough article [here](https://towardsdatascience.com/a-star-a-search-algorithm-eb495fb156bb) on the A-Star search algorithm. Throughout the notebook, we ask to you finish sections on your own and answer questions."
      ]
    },
    {
      "cell_type": "markdown",
      "metadata": {
        "id": "auBnTGWHoMle"
      },
      "source": [
        "## [Question - Describe A*]\n",
        "\n",
        "A* (A-Star) is a popular pathfinding and graph traversal algorithm used to find the shortest path between two nodes in a graph. It improves on Dijkstra’s Algorithm by incorporating heuristics to guide the search process.\n",
        "\n",
        "The algorithm evaluates nodes using a function:\n",
        "\n",
        "```\n",
        "f(n) = g(n) + h(n)\n",
        "```\n",
        "\n",
        "- `g(n)` is the cost from the start node to the current node.\n",
        "- `h(n)` is the estimated cost from the current node to the goal (heuristic).\n",
        "- `f(n)` is the total estimated cost of the cheapest solution through node `n`.\n",
        "\n",
        "A* is both complete and optimal, provided the heuristic `h(n)` is admissible (never overestimates the true cost).\n"
      ]
    },
    {
      "cell_type": "markdown",
      "metadata": {
        "id": "FsP7pSLAoooN"
      },
      "source": [
        "## [Question - Describe h and g]\n",
        "\n",
        "In the context of the A* algorithm:\n",
        "\n",
        "- **g(n)** is the actual cost from the starting node to node `n`. It keeps track of the path cost accumulated so far.\n",
        "- **h(n)** is the heuristic function. It estimates the cost from node `n` to the goal. Common heuristics include Manhattan distance or Euclidean distance depending on the problem.\n",
        "\n",
        "By combining `g(n)` and `h(n)`, the algorithm balances between exploring known paths and making progress toward the goal.\n",
        "\n"
      ]
    },
    {
      "cell_type": "markdown",
      "metadata": {
        "id": "-_VkEgNWuMDK"
      },
      "source": [
        "## [Activity - run Node]\n",
        "Examine and run the below code."
      ]
    },
    {
      "cell_type": "code",
      "source": [
        "# [Activity - run Node]\n",
        "class Node():\n",
        "    \"\"\"A node class for A* Pathfinding\"\"\"\n",
        "\n",
        "    def __init__(self, parent=None, position=None):\n",
        "        self.parent = parent\n",
        "        self.position = position\n",
        "\n",
        "        self.g = 0\n",
        "        self.h = 0\n",
        "        self.f = 0\n",
        "\n",
        "    def __eq__(self, other):\n",
        "        return self.position == other.position\n",
        "\n",
        "# Test the Node class to verify it works\n",
        "print(\"Node class implemented successfully!\")\n",
        "test_node1 = Node(None, (0, 0))\n",
        "test_node2 = Node(test_node1, (1, 1))\n",
        "print(f\"Test node 1 position: {test_node1.position}\")\n",
        "print(f\"Test node 2 position: {test_node2.position}\")\n",
        "print(f\"Test node 2 parent position: {test_node2.parent.position}\")\n",
        "print(f\"Nodes equal test: {test_node1 == test_node2}\")"
      ],
      "metadata": {
        "colab": {
          "base_uri": "https://localhost:8080/"
        },
        "id": "Lkq12RpNHC-v",
        "outputId": "fed93678-53a8-4125-e1a4-660b50aac7e4"
      },
      "execution_count": null,
      "outputs": [
        {
          "output_type": "stream",
          "name": "stdout",
          "text": [
            "Node class implemented successfully!\n",
            "Test node 1 position: (0, 0)\n",
            "Test node 2 position: (1, 1)\n",
            "Test node 2 parent position: (0, 0)\n",
            "Nodes equal test: False\n"
          ]
        }
      ]
    },
    {
      "cell_type": "markdown",
      "metadata": {
        "id": "Ucsmb_lfuTrp"
      },
      "source": [
        "## [Question - Explain 'Node']\n",
        "\n",
        "The Node class is a fundamental part of the A* implementation. It stores:\n",
        "\n",
        "- `position`: The coordinates of the node in the maze.\n",
        "- `parent`: A reference to the node's parent, used to reconstruct the final path.\n",
        "- `g`: Cost from start node to this node.\n",
        "- `h`: Estimated cost from this node to the goal.\n",
        "- `f`: Total estimated cost (`g + h`).\n",
        "\n",
        "It also implements comparison methods so nodes can be sorted based on their `f` values in priority queues.\n"
      ]
    },
    {
      "cell_type": "markdown",
      "metadata": {
        "id": "B6s0TVMuur8t"
      },
      "source": [
        "## [Activity - Run astar() ]"
      ]
    },
    {
      "cell_type": "code",
      "execution_count": null,
      "metadata": {
        "id": "wYzrkdjZpxZs",
        "colab": {
          "base_uri": "https://localhost:8080/"
        },
        "outputId": "ef1bbab1-a840-4bc2-c635-41ad05d3c400"
      },
      "outputs": [
        {
          "output_type": "stream",
          "name": "stdout",
          "text": [
            "A* function is ready to use!\n"
          ]
        }
      ],
      "source": [
        "# The astar function is already defined in your notebook\n",
        "# Let's test it to make sure it works correctly\n",
        "\n",
        "def astar(maze, start, end):\n",
        "    \"\"\"Returns a list of tuples as a path from the given start to the given end in the given maze\"\"\"\n",
        "\n",
        "    # Create start and end node\n",
        "    start_node = Node(None, start)\n",
        "    start_node.g = start_node.h = start_node.f = 0\n",
        "    end_node = Node(None, end)\n",
        "    end_node.g = end_node.h = end_node.f = 0\n",
        "\n",
        "    # Initialize both open and closed list\n",
        "    open_list = []\n",
        "    closed_list = []\n",
        "\n",
        "    # Add the start node\n",
        "    open_list.append(start_node)\n",
        "\n",
        "    # Loop until you find the end\n",
        "    while len(open_list) > 0:\n",
        "\n",
        "        # Get the current node\n",
        "        current_node = open_list[0]\n",
        "        current_index = 0\n",
        "        for index, item in enumerate(open_list):\n",
        "            if item.f < current_node.f:\n",
        "                current_node = item\n",
        "                current_index = index\n",
        "\n",
        "        # Pop current off open list, add to closed list\n",
        "        open_list.pop(current_index)\n",
        "        closed_list.append(current_node)\n",
        "\n",
        "        # Found the goal\n",
        "        if current_node == end_node:\n",
        "            path = []\n",
        "            current = current_node\n",
        "            while current is not None:\n",
        "                path.append(current.position)\n",
        "                current = current.parent\n",
        "            return path[::-1] # Return reversed path\n",
        "\n",
        "        # Generate children\n",
        "        children = []\n",
        "        for new_position in [(0, -1), (0, 1), (-1, 0), (1, 0), (-1, -1), (-1, 1), (1, -1), (1, 1)]: # Adjacent squares\n",
        "\n",
        "            # Get node position\n",
        "            node_position = (current_node.position[0] + new_position[0], current_node.position[1] + new_position[1])\n",
        "\n",
        "            # Make sure within range\n",
        "            if node_position[0] > (len(maze) - 1) or node_position[0] < 0 or node_position[1] > (len(maze[len(maze)-1]) -1) or node_position[1] < 0:\n",
        "                continue\n",
        "\n",
        "            # Make sure walkable terrain\n",
        "            if maze[node_position[0]][node_position[1]] != 0:\n",
        "                continue\n",
        "\n",
        "            # Create new node\n",
        "            new_node = Node(current_node, node_position)\n",
        "\n",
        "            # Append\n",
        "            children.append(new_node)\n",
        "\n",
        "        # Loop through children\n",
        "        for child in children:\n",
        "\n",
        "            # Child is on the closed list\n",
        "            if child in closed_list:\n",
        "              continue\n",
        "\n",
        "            # Create the f, g, and h values\n",
        "            child.g = current_node.g + 1\n",
        "            child.h = ((child.position[0] - end_node.position[0]) ** 2) + ((child.position[1] - end_node.position[1]) ** 2)\n",
        "            child.f = child.g + child.h\n",
        "\n",
        "            # Child is already in the open list\n",
        "            for open_node in open_list:\n",
        "                if child == open_node and child.g > open_node.g:\n",
        "                    continue\n",
        "\n",
        "            # Add the child to the open list\n",
        "            open_list.append(child)\n",
        "\n",
        "    # If no path is found\n",
        "    return None\n",
        "\n",
        "print(\"A* function is ready to use!\")"
      ]
    },
    {
      "cell_type": "markdown",
      "metadata": {
        "id": "hral7UX2vF0z"
      },
      "source": [
        "## [Question - Explain maze]\n",
        "\n",
        "The maze is represented as a 2D grid where:\n",
        "\n",
        "0 indicates a walkable path.\n",
        "1 indicates an obstacle or wall.\n",
        "\n",
        "Start and end positions are given as coordinate tuples. The A* algorithm will attempt to find the shortest valid path from the start to the end while avoiding obstacles."
      ]
    },
    {
      "cell_type": "markdown",
      "metadata": {
        "id": "EcB70Wbet1-w"
      },
      "source": [
        "## [Question - Build Main]\n",
        "Please use the above code that uses the astar() function to define a path from the beginning to the end of a maze. You can choose how the maze looks and where the start and end are."
      ]
    },
    {
      "cell_type": "code",
      "execution_count": null,
      "metadata": {
        "id": "MY8tTsSbt1XE",
        "colab": {
          "base_uri": "https://localhost:8080/"
        },
        "outputId": "48342b28-c829-4c22-b0a9-70ea4e9460e1"
      },
      "outputs": [
        {
          "output_type": "stream",
          "name": "stdout",
          "text": [
            "=== SOLVABLE MAZE EXAMPLE ===\n",
            "Maze Layout (0=path, 1=wall):\n",
            "[0, 1, 0, 0, 0]\n",
            "[0, 1, 0, 1, 0]\n",
            "[0, 0, 0, 1, 0]\n",
            "[1, 1, 0, 0, 0]\n",
            "[0, 0, 0, 1, 0]\n",
            "Start position: (0, 0)\n",
            "End position: (4, 4)\n",
            "\n",
            "A* Algorithm Results:\n",
            "Path found: [(0, 0), (1, 0), (2, 1), (3, 2), (3, 3), (4, 4)]\n",
            "\n",
            "=== PATH VISUALIZATION ===\n",
            "S = Start, E = End, * = Path, █ = Wall, . = Open path\n",
            "S █ . . .\n",
            "* █ . █ .\n",
            ". * . █ .\n",
            "█ █ * * .\n",
            ". . . █ E\n",
            "\n",
            "Path length: 6 steps\n",
            "The algorithm successfully found the shortest path from start to end!\n"
          ]
        }
      ],
      "source": [
        "## [Your Code Here]\n",
        "print(\"=== SOLVABLE MAZE EXAMPLE ===\")\n",
        "\n",
        "# Define a solvable maze (5x5 grid)\n",
        "maze = [\n",
        "    [0, 1, 0, 0, 0],\n",
        "    [0, 1, 0, 1, 0],\n",
        "    [0, 0, 0, 1, 0],\n",
        "    [1, 1, 0, 0, 0],\n",
        "    [0, 0, 0, 1, 0],\n",
        "]\n",
        "\n",
        "start = (0, 0)  # Top-left corner\n",
        "end = (4, 4)    # Bottom-right corner\n",
        "\n",
        "print(\"Maze Layout (0=path, 1=wall):\")\n",
        "for row in maze:\n",
        "    print(row)\n",
        "print(f\"Start position: {start}\")\n",
        "print(f\"End position: {end}\")\n",
        "\n",
        "# Find path using A* algorithm\n",
        "path = astar(maze, start, end)\n",
        "\n",
        "print(\"\\nA* Algorithm Results:\")\n",
        "print(f\"Path found: {path}\")\n",
        "\n",
        "# Visualize the path in the maze\n",
        "if path:\n",
        "    print(\"\\n=== PATH VISUALIZATION ===\")\n",
        "    print(\"S = Start, E = End, * = Path, █ = Wall, . = Open path\")\n",
        "\n",
        "    # Create a copy of the maze for visualization\n",
        "    maze_visual = [row[:] for row in maze]\n",
        "\n",
        "    # Mark the path (excluding start and end for clarity)\n",
        "    for position in path:\n",
        "        if position != start and position != end:\n",
        "            maze_visual[position[0]][position[1]] = 2  # Use 2 to represent path\n",
        "\n",
        "    # Display the visualized maze\n",
        "    for i in range(len(maze_visual)):\n",
        "        row_display = []\n",
        "        for j in range(len(maze_visual[i])):\n",
        "            if (i, j) == start:\n",
        "                row_display.append('S')\n",
        "            elif (i, j) == end:\n",
        "                row_display.append('E')\n",
        "            elif maze_visual[i][j] == 2:\n",
        "                row_display.append('*')\n",
        "            elif maze_visual[i][j] == 0:\n",
        "                row_display.append('.')\n",
        "            else:  # maze_visual[i][j] == 1\n",
        "                row_display.append('█')\n",
        "        print(' '.join(row_display))\n",
        "\n",
        "    print(f\"\\nPath length: {len(path)} steps\")\n",
        "    print(\"The algorithm successfully found the shortest path from start to end!\")\n",
        "else:\n",
        "    print(\"No path found! The maze appears to be unsolvable.\")"
      ]
    },
    {
      "cell_type": "markdown",
      "metadata": {
        "id": "_t_M9LWSwc79"
      },
      "source": [
        "## [Question - Impossible Maze]\n",
        "Now create a maze that the algorithm cannot solve. What is the output of the algorithm?"
      ]
    },
    {
      "cell_type": "code",
      "execution_count": null,
      "metadata": {
        "id": "yoQ3fuVbwnuv",
        "colab": {
          "base_uri": "https://localhost:8080/"
        },
        "outputId": "972f2f0f-4e9d-4785-93cb-adb4c8375370"
      },
      "outputs": [
        {
          "output_type": "stream",
          "name": "stdout",
          "text": [
            "=== IMPOSSIBLE MAZE EXAMPLE ===\n",
            "Maze Layout (0=path, 1=wall):\n",
            "[0, 1, 0]\n",
            "[1, 1, 1]\n",
            "[0, 1, 0]\n",
            "Start position: (0, 0)\n",
            "End position: (2, 2)\n",
            "\n",
            "A* Algorithm Results:\n",
            "Path found: None\n",
            "\n",
            "=== MAZE ANALYSIS ===\n",
            "S = Start, E = End, █ = Wall, . = Open path\n",
            "S █ .\n",
            "█ █ █\n",
            ". █ E\n",
            "\n",
            "=== EXPLANATION ===\n",
            "✓ The algorithm correctly returned: None\n",
            "✓ This means no path exists from start to end\n",
            "\n",
            "✓ Why it's impossible:\n",
            "  - Start at (0,0) can only move to (0,0) and (2,0)\n",
            "  - End at (2,2) is completely surrounded by walls:\n",
            "    █ Above: (1,2) = Wall\n",
            "    █ Below: (impossible - out of bounds)\n",
            "    █ Left:  (2,1) = Wall\n",
            "    █ Right: (impossible - out of bounds)\n",
            "  - No possible route can reach the isolated end position\n",
            "\n",
            "✓ This demonstrates A* correctly handles impossible paths by returning None\n"
          ]
        }
      ],
      "source": [
        "## [Your Code Here]\n",
        "print(\"=== IMPOSSIBLE MAZE EXAMPLE ===\")\n",
        "\n",
        "# Define an impossible maze - goal is completely blocked by walls\n",
        "maze_impossible = [\n",
        "    [0, 1, 0],\n",
        "    [1, 1, 1],\n",
        "    [0, 1, 0],\n",
        "]\n",
        "\n",
        "start = (0, 0)  # Top-left corner\n",
        "end = (2, 2)    # Bottom-right corner (completely surrounded by walls)\n",
        "\n",
        "print(\"Maze Layout (0=path, 1=wall):\")\n",
        "for row in maze_impossible:\n",
        "    print(row)\n",
        "print(f\"Start position: {start}\")\n",
        "print(f\"End position: {end}\")\n",
        "\n",
        "# Try to find path using A* algorithm\n",
        "path = astar(maze_impossible, start, end)\n",
        "\n",
        "print(\"\\nA* Algorithm Results:\")\n",
        "print(f\"Path found: {path}\")\n",
        "\n",
        "# Visualize why it's impossible\n",
        "print(\"\\n=== MAZE ANALYSIS ===\")\n",
        "print(\"S = Start, E = End, █ = Wall, . = Open path\")\n",
        "\n",
        "for i in range(len(maze_impossible)):\n",
        "    row_display = []\n",
        "    for j in range(len(maze_impossible[i])):\n",
        "        if (i, j) == start:\n",
        "            row_display.append('S')\n",
        "        elif (i, j) == end:\n",
        "            row_display.append('E')\n",
        "        elif maze_impossible[i][j] == 0:\n",
        "            row_display.append('.')\n",
        "        else:\n",
        "            row_display.append('█')\n",
        "    print(' '.join(row_display))\n",
        "\n",
        "# Explanation of results\n",
        "print(\"\\n=== EXPLANATION ===\")\n",
        "if path is None:\n",
        "    print(\"✓ The algorithm correctly returned: None\")\n",
        "    print(\"✓ This means no path exists from start to end\")\n",
        "    print(\"\\n✓ Why it's impossible:\")\n",
        "    print(\"  - Start at (0,0) can only move to (0,0) and (2,0)\")\n",
        "    print(\"  - End at (2,2) is completely surrounded by walls:\")\n",
        "    print(\"    █ Above: (1,2) = Wall\")\n",
        "    print(\"    █ Below: (impossible - out of bounds)\")\n",
        "    print(\"    █ Left:  (2,1) = Wall\")\n",
        "    print(\"    █ Right: (impossible - out of bounds)\")\n",
        "    print(\"  - No possible route can reach the isolated end position\")\n",
        "    print(\"\\n✓ This demonstrates A* correctly handles impossible paths by returning None\")\n",
        "else:\n",
        "    print(\"Unexpected: A path was found when none should exist!\")\n",
        "    print(\"Path found:\", path)"
      ]
    }
  ],
  "metadata": {
    "colab": {
      "provenance": [],
      "include_colab_link": true
    },
    "kernelspec": {
      "display_name": "Python 3",
      "name": "python3"
    },
    "language_info": {
      "name": "python"
    }
  },
  "nbformat": 4,
  "nbformat_minor": 0
}